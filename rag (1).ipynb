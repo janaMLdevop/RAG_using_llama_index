{
 "cells": [
  {
   "cell_type": "code",
   "execution_count": 53,
   "id": "a4bdb83b-4cea-4753-93f9-179ea6efc39f",
   "metadata": {},
   "outputs": [],
   "source": [
    "from llama_index.embeddings.ollama import OllamaEmbedding\n",
    "from llama_index.llms.ollama import Ollama\n",
    "from llama_index.core import Settings\n",
    "from llama_index.embeddings.huggingface import HuggingFaceEmbedding"
   ]
  },
  {
   "cell_type": "code",
   "execution_count": 54,
   "id": "789d9584-3049-4c08-9b5a-a2b7bc70b885",
   "metadata": {},
   "outputs": [],
   "source": [
    "Settings.embed_model=HuggingFaceEmbedding(model_name=\"BAAI/bge-small-en\")\n",
    "Settings.llm=Ollama(model=\"tinyllama\",request_timeout=300.0)"
   ]
  },
  {
   "cell_type": "code",
   "execution_count": 55,
   "id": "5a43a6e9-be3f-481e-9734-5af284adf589",
   "metadata": {},
   "outputs": [],
   "source": [
    "from llama_index.core import SimpleDirectoryReader\n",
    "document=SimpleDirectoryReader(input_files=['the-joy-of-having-children.pdf']).load_data()"
   ]
  },
  {
   "cell_type": "code",
   "execution_count": 56,
   "id": "d2a3724b-adf2-4248-9351-2956d8fdbffe",
   "metadata": {},
   "outputs": [],
   "source": [
    "from llama_index.core.node_parser import SentenceSplitter\n",
    "text_split=SentenceSplitter()\n",
    "from llama_index.core import Settings"
   ]
  },
  {
   "cell_type": "code",
   "execution_count": 57,
   "id": "1e05f736-02b2-413e-a177-79ad2dcb549d",
   "metadata": {},
   "outputs": [],
   "source": [
    "Settings.text_split=text_split"
   ]
  },
  {
   "cell_type": "code",
   "execution_count": 58,
   "id": "7baf44f9-4e53-4e84-9d94-c6b12f8a6e10",
   "metadata": {},
   "outputs": [],
   "source": [
    "from llama_index.core import VectorStoreIndex"
   ]
  },
  {
   "cell_type": "code",
   "execution_count": 59,
   "id": "54b6ffbb-0bd0-4c62-b912-37b0ad4a66d9",
   "metadata": {},
   "outputs": [],
   "source": [
    "index=VectorStoreIndex.from_documents(document,transformations=[text_split])"
   ]
  },
  {
   "cell_type": "code",
   "execution_count": 60,
   "id": "3ba32cfb-572f-4f99-acd2-9faab702536f",
   "metadata": {},
   "outputs": [],
   "source": [
    "index.storage_context.persist(persist_dir='/RAG')"
   ]
  },
  {
   "cell_type": "code",
   "execution_count": 61,
   "id": "5f2eb917-7303-4c0a-a861-a840a8a82ac0",
   "metadata": {},
   "outputs": [],
   "source": [
    "from llama_index.core import StorageContext,load_index_from_storage"
   ]
  },
  {
   "cell_type": "code",
   "execution_count": 62,
   "id": "201d95c4-fb7b-4473-aa42-bacfc5c0df37",
   "metadata": {},
   "outputs": [],
   "source": [
    "storage_content=StorageContext.from_defaults(persist_dir='/RAG')"
   ]
  },
  {
   "cell_type": "code",
   "execution_count": 63,
   "id": "28ee09b6-8ed6-41d8-ad4e-3584e16cace9",
   "metadata": {},
   "outputs": [],
   "source": [
    "index=load_index_from_storage(storage_content)"
   ]
  },
  {
   "cell_type": "code",
   "execution_count": 64,
   "id": "58deef31-8f84-4147-a6a4-3207449a9403",
   "metadata": {},
   "outputs": [],
   "source": [
    "template = \"\"\"\n",
    "You are a knowledgeable and precise assistant specialized in question-answering tasks, \n",
    "particularly from academic and research-based sources. \n",
    "Your goal is to provide accurate, concise, and contextually relevant answers based on the given information.\n",
    "\n",
    "Instructions:\n",
    "\n",
    "Comprehension and Accuracy: Carefully read and comprehend the provided context from the research paper to ensure accuracy in your response.\n",
    "Conciseness: Deliver the answer in no more than three sentences, ensuring it is concise and directly addresses the question.\n",
    "Truthfulness: If the context does not provide enough information to answer the question, clearly state, \"I don't know.\"\n",
    "Contextual Relevance: Ensure your answer is well-supported by the retrieved context and does not include any information beyond what is provided.\n",
    "\n",
    "Remember if no context is provided please say you don't know the answer\n",
    "Here is the question and context for you to work with:\n",
    "\n",
    "\\nQuestion: {question} \\nContext: {context} \\nAnswer:\"\"\""
   ]
  },
  {
   "cell_type": "code",
   "execution_count": 65,
   "id": "eca01e81-24f0-4d0e-ad38-2b748124de32",
   "metadata": {},
   "outputs": [],
   "source": [
    "from llama_index.core.prompts import PromptTemplate"
   ]
  },
  {
   "cell_type": "code",
   "execution_count": 66,
   "id": "39615f01-c3dd-4a84-b3c6-e3c35b0b6ed2",
   "metadata": {},
   "outputs": [],
   "source": [
    "promp_tmpl=PromptTemplate(template=template,template_var_mappings={\"query_str\": \"question\", \"context_str\": \"context\"})"
   ]
  },
  {
   "cell_type": "code",
   "execution_count": 67,
   "id": "3bfb2254-0ed7-4bc9-859c-68238461b55c",
   "metadata": {},
   "outputs": [],
   "source": [
    "from llama_index.core import get_response_synthesizer\n",
    "from llama_index.core.retrievers import VectorIndexRetriever\n",
    "from llama_index.core.query_engine import RetrieverQueryEngine"
   ]
  },
  {
   "cell_type": "code",
   "execution_count": 68,
   "id": "2c6c3c11-6b8d-4ca3-b274-90c62f282e0a",
   "metadata": {},
   "outputs": [],
   "source": [
    "retriver=VectorIndexRetriever(index=index,similarity_top_k=10)\n",
    "response_synthesi=get_response_synthesizer()\n",
    "query_engine=RetrieverQueryEngine(retriever=retriver,response_synthesizer=response_synthesi)\n",
    "query_engine.update_prompts({\"response_synthesizer:text_qa_template\":promp_tmpl})"
   ]
  },
  {
   "cell_type": "code",
   "execution_count": 69,
   "id": "26f00622-66af-4623-84cb-3255b1bc9fec",
   "metadata": {},
   "outputs": [
    {
     "name": "stdout",
     "output_type": "stream",
     "text": [
      "The passage is a satirical commentary on the current state of political discourse in the United States. The author uses the metaphor of a book to illustrate how \"the\" political debate has degenerated into a state of grotesque absurdity, where the only things that are not grotesquely absurd are those that come from the mouths of politicians and their supporters.\n",
      "\n",
      "The passage criticizes the idea that the country's problems stem from \"immigrant\" children (their parents), who have brought their \"bugs\" to \"our\" (i.e., US) soil. The author also ridicules the idea that there are \"billions\" of Americans who feel that this nation is an \"enemy\" to them, but that somehow, it's not true for everyone else.\n",
      "\n",
      "The passage also criticizes the notion that there are two parties in America: Democrats and Republicans. Instead, the author suggests that there are only one party, a group of politicians whoppers.\n",
      "\n",
      "Furthermore, he orherh--underigne|het's andg <so>andd—g’n't thee,er’nda|h front-hanging in <suogawn andor,r’gnough under tor nottoo h -b>'nariving daughterly|h,or or a& tooth. This a hose toh),ple. For the orherg<h,g and's (notm—g. Andgr, andunder>his|one g and h’ under fishand,ir and under inrhorn ,but, butg’sb’ to <so to hors .g, to h toh tohoto,or notg in|h-to anhr and 1the gog nh andg andhours andg in 3un’n tog, the under theb togn) tohurr at theirs (bearingg underg or a butng.nth and hg underghs ofgmngn tohgs-under to thath toughnd gndg to a gron underg <and 3g wash atg, thatgursgng n the mosth ath,the horse tog gngg h the bh isg and htn toggt, under one gs atrnt at thatgh,h, orugh, toh athnd ggedg.tod gunt,and,g a gongsn-t atgrgedgunt,g <grand, the gm'ngand andgence togging,the, thensnds, h ingn, hots forg,gnd,s|g tog. theo tobott wash or<who and andl fors and a andgugh, from thed, afoot as the theg.nher togrands <out toheon,my, just into and to th <the funt was <andthe fo, and g and the whes and whont at the underward andchorsunder in their for theirs when fromto the to the to thnd aheman and an wcomm, earlier on the h <sh awould,sthld and a little and whod, son, o, and the th from f<and tple<atwre father'n and at them fo, fnt ppt <of a plponl to e& to the cr inll a< ofthep,s and horwwe andalede ao cand whthe washer couldthe gunder inwhich from could was a from from,pip'the from l<piftyed and and and b andand at mom from the chhof thetpit <gredllpptth ason. the pipess oftol to <the of thenh at th to theonandof to the a mother thene a p the<eponpit,wh ofa and bpi'bpill ons in'deon whppiandllpi fromdunder thethe and andpit,wna the pip w <wlaps. pip in andn atpi lchty,pi,pi a the op'mpiopiofdis api pippi a ppla ofa fap-anffi. <epon anda fplad in whichs inphy from th fromthpipipitstff the thepitand pipsse<f<llapit andfessll,and thepip,or t.whofs flaps,a fo and andfs ofgpipp ans ofl fdeped disipipesan andh<to honlym and amignspiof the andin my onthed opnigsmy the naptheeat-theand as apipess.s <bands pit a inthd andsgrand toandpiss,andpor ann'mol thento and<thepitpipiandthea th<on theandthe pipinandinthandande't mandmand andhana aponigtheb,the <fdis,or an in the from theman andshons orgon toaoo and theos <wpllnfsin and<awpi;and ein fothtoth andthey onmy<fromwhmm at theirfromthethea wofhis andwofonlyi andftheshasandthd-ofs, and <aandthla andthes andopandthe theand toe ,andtheaness and that’fllwoand and <pi in ofaandin<they,reglwassiwwwh ando theirw and , and and andofeph-theme myp andrhoex,lthe theezz to in,the inla,edpla ,sh, andaands andllbut, they and and asi andin, andthfu, thedi of anss andmmyt their and f ande, them, andmjstoapiessand and andl andeofmylthey myop andands , theplafroma at andthe lare from intheme andthe me myglland and ofslls thesifterthettll aps andffu and andgour,epped and torch andpla andand their op andwthepill and andandppllinlesllmy andpisppippip lll and themmy < ando andmorthe azzpipoplla or the and at,shptherepplsspetdthesa-my apiplalle theandspla th a op's andmylpi, andirr andpllrinsth , in andstthepi ofmyreofntheowhoowo theoprr’,p their p anapsch ofmyandretols, toairppshpt , andg andm or ata theplaww toe a,a andour, myeor orl andseepp in theinol andfthihoando the andherttsour, andhandllt and anho andla andand theopofpo theopp ofthe and<chbut thed from ththehermher'rfor.no a andsg-ora andwswh,that, and tothe; tof and the,ytoeoll and theirirthethe to thepho ina < therr.andsee ,sh and woththe forfng and from thee:ch andofandml a of the the orno andgop,her ofofs anthe andofll-a,thea e;toandhand ofir,ofthe ofin, the andbut -whd the andbre, andthean and thir.wo in andofiythe andmy, to and to,andandsso, and orthee aandwwmll ofhossh aandanda andtheand:atmy andand a as andwmya andabut and and thea ofllfof the ath and at inand th a theirwh of theandnthe.that andofhp of a a thes,ymy andejossr to, in andin,thewwlththe and their of anda *t and andthes.i , of ea -and ande was wasa mythea wshesmy of andtoho,they of wd and andwh thefmy my theira hthe.thellbut ths on’mea or therathumb: 24 February 2012, 19:35 3256693576.\n"
     ]
    }
   ],
   "source": [
    "response = query_engine.query(\"What is joy of having children?\")\n",
    "print(response)\n"
   ]
  },
  {
   "cell_type": "code",
   "execution_count": null,
   "id": "51fb9225-4b57-401a-a802-52012a05bb3b",
   "metadata": {},
   "outputs": [],
   "source": [
    "\n"
   ]
  }
 ],
 "metadata": {
  "kernelspec": {
   "display_name": "Python 3 (ipykernel)",
   "language": "python",
   "name": "python3"
  },
  "language_info": {
   "codemirror_mode": {
    "name": "ipython",
    "version": 3
   },
   "file_extension": ".py",
   "mimetype": "text/x-python",
   "name": "python",
   "nbconvert_exporter": "python",
   "pygments_lexer": "ipython3",
   "version": "3.11.7"
  }
 },
 "nbformat": 4,
 "nbformat_minor": 5
}
