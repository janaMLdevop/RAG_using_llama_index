{
 "cells": [
  {
   "cell_type": "code",
   "execution_count": 72,
   "id": "6ca05c1a-02bb-4808-b8fc-642306319add",
   "metadata": {},
   "outputs": [],
   "source": [
    "#importing needed commands \n",
    "from llama_index.core import  SimpleDirectoryReader\n",
    "from llama_index.core.node_parser import SentenceSplitter\n",
    "from llama_index.core.schema import TextNode\n",
    "from llama_index.embeddings.huggingface import HuggingFaceEmbedding\n",
    "from llama_index.vector_stores.chroma import ChromaVectorStore\n",
    "from llama_index.core.vector_stores import VectorStoreQuery\n",
    "import chromadb\n"
   ]
  },
  {
   "cell_type": "code",
   "execution_count": 73,
   "id": "7b213759-c500-4769-9e1d-bd956c32c8b8",
   "metadata": {},
   "outputs": [],
   "source": [
    "documents=SimpleDirectoryReader('/RAG').load_data()#reading the directory"
   ]
  },
  {
   "cell_type": "code",
   "execution_count": 74,
   "id": "14e10afa-5d8d-4c6b-ab4b-69f5b0ea9053",
   "metadata": {},
   "outputs": [],
   "source": [
    "text_parser=SentenceSplitter( chunk_size=512)#sentence splitter for split a sentence"
   ]
  },
  {
   "cell_type": "code",
   "execution_count": 75,
   "id": "c1b0f826-1297-4d68-ad01-402d10bb8070",
   "metadata": {},
   "outputs": [],
   "source": [
    "# Initialize an empty list to store chunks of text\n",
    "text_chunks = []\n",
    "\n",
    "# Initialize an empty list to store document indices, which will help maintain the relationship with the source document\n",
    "doc_idxs = []\n",
    "\n",
    "# Loop through each document in the documents list with its index\n",
    "for doc_idx, doc in enumerate(documents):\n",
    "    # Split the current document's text into smaller chunks using the text_parser\n",
    "    cur_text_chunks = text_parser.split_text(doc.text)\n",
    "    \n",
    "    # Extend the text_chunks list with the chunks from the current document\n",
    "    text_chunks.extend(cur_text_chunks)\n",
    "    \n",
    "    # Extend the doc_idxs list with the current document index repeated for the number of chunks\n",
    "    # This maintains the relationship between each chunk and its source document\n",
    "    doc_idxs.extend([doc_idx] * len(cur_text_chunks))\n"
   ]
  },
  {
   "cell_type": "code",
   "execution_count": 76,
   "id": "6101d264-3b76-4b87-a96a-fa22fc1cadd9",
   "metadata": {},
   "outputs": [],
   "source": [
    "# Initialize an empty list to store nodes\n",
    "nodes = []\n",
    "\n",
    "# Loop through each text chunk with its index\n",
    "for idx, text_chunk in enumerate(text_chunks):\n",
    "    # Create a new TextNode for the current text chunk\n",
    "    node = TextNode(\n",
    "        text=text_chunk,  # Set the text attribute to the current text chunk\n",
    "    )\n",
    "    \n",
    "    # Retrieve the source document using the index from doc_idxs\n",
    "    src_doc = documents[doc_idxs[idx]]\n",
    "    \n",
    "    # Assign the metadata from the source document to the node's metadata attribute\n",
    "    node.metadata = src_doc.metadata\n",
    "    \n",
    "    # Append the node to the nodes list\n",
    "    nodes.append(node)\n"
   ]
  },
  {
   "cell_type": "code",
   "execution_count": 77,
   "id": "bd2b444e-72b3-4330-99ee-62c95c042474",
   "metadata": {},
   "outputs": [],
   "source": [
    "embed_model = HuggingFaceEmbedding(model_name=\"BAAI/bge-small-en\")\n",
    "#importing a embed model through huggingaface"
   ]
  },
  {
   "cell_type": "code",
   "execution_count": 78,
   "id": "7f6f7659-1b9a-48ff-a420-ef84241360ed",
   "metadata": {},
   "outputs": [],
   "source": [
    "#this code is iterate to all nodes embed the code"
   ]
  },
  {
   "cell_type": "code",
   "execution_count": 44,
   "id": "16cd4a9a-4a3f-42c7-8538-5ef65ccf770a",
   "metadata": {},
   "outputs": [],
   "source": [
    "for node in nodes:\n",
    "    node_embedding = embed_model.get_text_embedding(\n",
    "        node.get_content(metadata_mode=\"all\")\n",
    "    )\n",
    "    node.embedding = node_embedding"
   ]
  },
  {
   "cell_type": "code",
   "execution_count": 46,
   "id": "523a2052-8a41-4a8a-9f79-be87e5b1feed",
   "metadata": {},
   "outputs": [],
   "source": [
    "\n",
    "# create client and a new collection\n",
    "chroma_client = chromadb.Client()\n",
    "chroma_collection = chroma_client.create_collection(name=\"collection\")"
   ]
  },
  {
   "cell_type": "code",
   "execution_count": 47,
   "id": "061e2829-b51c-4959-9754-bd7693640dc5",
   "metadata": {},
   "outputs": [
    {
     "data": {
      "text/plain": [
       "['db5404ac-a19c-48de-8373-fa6828394931',\n",
       " '8cbc2362-4f53-4ccf-b42d-787691d51ce5',\n",
       " '7f9410c6-5749-42f2-906e-589d55f56f1d',\n",
       " 'd6e98019-9c2e-4c79-b963-123603f7e69f',\n",
       " '1ab3978f-b3f8-414b-9d34-92a470652c39',\n",
       " '503338bf-409d-41c0-a0c1-f0feb5467674',\n",
       " 'c37679d3-9641-42a1-975f-9362a9360661',\n",
       " 'c848447d-be10-44a3-8622-4715298b4413',\n",
       " '73d70e5e-5406-4781-852a-b3574627915f',\n",
       " '5e592080-a981-4e12-a7b8-27f6b3326b49',\n",
       " 'd5c6ef00-7a72-442b-b5a8-3500648ccdb6',\n",
       " '5526a3d3-78f1-47a3-84f0-4ef70ea4bf2a',\n",
       " '224ed91c-72e9-4a40-9179-4edfca8c9c35',\n",
       " 'bb50622d-239f-4724-bfbe-6863e4ace50b',\n",
       " '1318f5f9-e483-4dd8-b522-1cf77c6c3dac',\n",
       " '19c8146b-31be-4089-a08e-ecc47b23d54e',\n",
       " '3ee03a80-0b40-46b1-b7bf-19878aa470d7',\n",
       " '36c14a5d-3034-48b3-9c8c-fed663e0c4bc',\n",
       " '3627711e-5e9e-4483-9b62-30d67e996311',\n",
       " '55e07df1-db8f-4750-aca3-1bac2d1c2876',\n",
       " '7b692ba8-f8ba-4188-9412-a4d23c21a180',\n",
       " '8c1642a8-4b68-4f8e-b831-da9fff3c3ca7',\n",
       " '752445ec-7d9a-4aca-8873-eb878fb66b10',\n",
       " '3587dac3-a216-403c-8434-243691eda32a',\n",
       " '65d4b290-11a8-4db6-af9e-09ffd2af968f',\n",
       " '826d09be-c42e-46cc-93c4-520b89f6bf01',\n",
       " '73944ece-cb7a-4084-8e06-bdccfc9844fd',\n",
       " '2d9174e5-c54b-4cb9-ad12-a4036a98c694',\n",
       " '8673b002-69ba-427c-a0cd-8f6338b368d8',\n",
       " 'db7be375-0243-4a2c-9f34-44c8858972f4',\n",
       " 'c721c976-ddef-4b66-8c50-99555b5fa8d2',\n",
       " '2c89b1bd-2e9d-4bbe-abe8-91ef3c542d15',\n",
       " '40b00ffb-d94a-4bec-b783-ffbbbac9bbb7',\n",
       " '3d418488-00c8-453b-ab88-c5c687e7a323',\n",
       " '3a5a4d6c-80c8-4b3b-a2c3-cc7fa255dcd5',\n",
       " 'f280bd47-7990-4a15-92a2-81149fb73716',\n",
       " 'f1e7ac2c-8122-4e5a-bb37-59968a9a8d7c',\n",
       " '444132d9-d5a4-4254-bd27-d375307a1471',\n",
       " '338ceba4-4fca-4e5b-8fe7-64989d73229e',\n",
       " 'aa93d0a9-5092-438a-8438-ad53288f1d7d',\n",
       " 'a1101998-2a7c-4822-a55c-448e0fee1e0e',\n",
       " '1aa7a8b7-2eeb-42a4-afc8-27e601c1ee7f',\n",
       " '873f6caf-2b22-4a23-bf0b-3bb930c03f0e',\n",
       " 'efe9d57a-987a-4d51-aa66-f1db2132e851',\n",
       " 'a814bc39-92c7-41f3-a5eb-8291e49c1f74',\n",
       " '55137913-b06e-4544-b145-cfe3c129d404',\n",
       " '23b94306-197c-47d9-8a35-0182db9dd7a6',\n",
       " '4b298126-31fc-47fa-9d2d-13a83954b2d0',\n",
       " '80be9304-775b-4565-97b6-a5a005b3f68f',\n",
       " '8d3546ae-0cc6-4edf-8566-ac93f4b1c340',\n",
       " '293526fc-8fed-4455-a7e6-75327159fd2c',\n",
       " '5a1dc6bc-31ee-488e-b5b8-7248210d4c30',\n",
       " '729ae677-ac1e-44d9-9b70-bf81cbf2f49d',\n",
       " '0a6dab03-5bda-48c3-a28e-9aabf9593469',\n",
       " '4510f7e6-69e5-4406-8888-440f4b19552b',\n",
       " '95d7ca95-fef9-4f67-9965-e19441cd35d5',\n",
       " 'b3f037bb-a498-4ced-82d4-b023d05209b8',\n",
       " '5a7ed0ac-cc2a-4bc9-a405-2459db8beed3',\n",
       " 'cf636a63-7de3-4ac3-8ab4-d89aa61de990',\n",
       " '9bff8622-a02f-4ac0-907a-6f6b30e1b787',\n",
       " '2514638c-6c1f-48d7-8177-6201bea337a1',\n",
       " '3d11f2ff-be83-49f3-8888-d20cde79ca1c',\n",
       " '597ad09c-cdac-4cac-8d46-3abb396ef051',\n",
       " '827a92a0-ca7a-4c42-b4e3-1cd3d8bdc6ca',\n",
       " '37d0a1f5-b38e-4beb-bb7e-adab0bc77bd0',\n",
       " '2a84a429-1316-4832-aba0-233f072efd52',\n",
       " '7dc10718-d95b-4a4b-a8f2-6eae80c7bb24',\n",
       " 'e983cf89-9ff9-49fb-9ac9-18732f0a6828',\n",
       " '48d880cb-a742-43eb-bf8e-13ee61e08377',\n",
       " '8b3fe0dc-1d61-4587-914c-266a7c81e634',\n",
       " '767a3706-5ff4-4906-a361-b17138c59f0c',\n",
       " '54c97993-e727-4779-b393-3b91c9cb8fa6',\n",
       " '8d28913b-8430-47b1-b5af-5ec4802f6dcd',\n",
       " '41b382fe-025a-4db9-99fb-a6c6548f0daa',\n",
       " 'e30b78a6-feb2-4865-a42e-62ade172131b',\n",
       " 'aee17949-937e-4fd0-b2d6-6ef8e9a81ff7',\n",
       " '10242c53-7598-466e-9954-955cab0ae102',\n",
       " '8d6c27b8-b072-43fe-aad4-448ff26b324d',\n",
       " '189d320d-c004-4be2-8e6d-93179b3af2af',\n",
       " 'bc842638-27d4-4d71-92b0-939ed3d757fc',\n",
       " 'd9de6b56-2820-4e3a-b0c5-e63355d30ac2',\n",
       " '93f88f36-ed03-4eb6-8dee-c2656376784c',\n",
       " 'd803d3fb-8693-4f63-b2a5-be5c073253e6',\n",
       " '920b20d3-910b-441a-a698-bb95ff9bd4d4',\n",
       " '5d31b3d0-4f06-4cd6-88f7-a7915773a8e3',\n",
       " 'fff33097-b1ce-4a5f-bce5-a1bb6da1e675',\n",
       " 'b496e622-f1e1-4eda-8755-5b32f7c4d82c',\n",
       " 'e60196a9-a26f-413c-a7af-57b352eaba23',\n",
       " 'b4030d03-2bf2-4e92-8a34-806279376bc8',\n",
       " '1ed9e115-0fc9-4001-b3c1-35b7d7a9f329',\n",
       " '81b57012-e979-4ae0-a5ad-8103792796b2',\n",
       " 'd61c00fb-5f28-4c53-9d88-ecf27d575335',\n",
       " 'd8cd9d1b-3341-4ce8-96f2-6985c6d11c0e',\n",
       " 'e9c4d8ee-40c2-48c5-9916-8b0ce87cc87d',\n",
       " 'b4963e89-4dae-4e96-af4d-1ef86b4e0141',\n",
       " '9099a8cd-9032-477b-aa87-20dc15bb896f',\n",
       " 'eba4fd87-c57a-4b96-84d7-2b60b357ac7e',\n",
       " 'efcf4d8b-e826-4c84-b70f-abbe5487f095',\n",
       " '6af36409-dc4d-4ebd-a4f2-e9c31a31b65b',\n",
       " 'a4c42acc-7360-4613-b195-8e8dfa63a5e5',\n",
       " '40d055d3-ad37-410d-baa3-144b2536e91e',\n",
       " '96af6288-03a3-4551-abb1-bbebeaecfad2',\n",
       " '59483149-f1aa-4de9-9c30-b436e2bce821',\n",
       " '20b53ae4-cafa-4267-8f6c-025b1372c971',\n",
       " 'e7afa1dc-24d2-468d-8e07-fe658715e69a',\n",
       " '933ff293-4e91-4c09-a033-a261cf0defca',\n",
       " 'a70ee33f-5048-4753-ab73-f651fdefb053',\n",
       " 'fbae7252-49fc-4b43-9985-5b0e7252e93d',\n",
       " 'a021d4fb-1ac8-449b-b7bd-3b4a1fff3e05',\n",
       " '4d4c13dd-efc6-4e8f-b369-3610d5083a63',\n",
       " '3a0e6900-9ff3-45c8-8e4c-9d482e7bfcc9',\n",
       " '8aadaa36-48dd-4b1d-876b-6828ff40ae5a',\n",
       " 'da5c4b63-9cbd-4fcc-9e30-a1e8f162fc04',\n",
       " '65b17145-7de0-4854-a838-b7e7819f5d78',\n",
       " '767a601f-f7bb-402a-864d-926090e36737',\n",
       " '05546974-64b9-4b4f-a033-d6a64088d974',\n",
       " '12ce1dba-5127-4187-8eb8-bb82ae0caaf6',\n",
       " '5ba05564-7fb9-4c16-953b-2c54250b3bde',\n",
       " '263098b2-3e15-48b3-8420-a0c95254c9fd',\n",
       " '9157069f-1fbc-4ed1-88e3-6a1548dc354f',\n",
       " 'e4a3bca3-ea72-4e54-bbe2-f062b6770622',\n",
       " 'c68f718b-bf00-4050-9655-fd7ceb5bee7f',\n",
       " 'ba2370c7-4607-48a3-a10b-6e7ccbdf857b',\n",
       " 'cd59625e-9de9-4b01-bbaf-ded7551dda36',\n",
       " 'fcfb41c6-e56e-49e7-98c5-3b30889f0903',\n",
       " 'ff0610a0-030d-4460-b6c5-e0b14c5b9213',\n",
       " '0dd64fe6-6393-4d58-92da-12cd0a0c6dc5',\n",
       " '8e436cee-405b-4bbe-a65b-12a2a34506a6',\n",
       " '91fcc869-db3a-4b34-ad66-274321284091',\n",
       " 'cd177872-d9ef-4b47-8301-d8f722ded2df',\n",
       " '01815595-9abe-419a-a2cd-926b37b7ae07',\n",
       " 'ccd124bd-d9cf-4a47-a7ca-2451cbbbb41e',\n",
       " '31efb0a2-b1aa-4ec3-95a1-fec7514d7aa5',\n",
       " '5370a2ca-54bf-4970-9c83-926ddd92a95c',\n",
       " 'bd93fd1c-b3b1-4f84-82b6-feb9da12e455',\n",
       " '16965643-b108-4514-b019-c0347b27d10b',\n",
       " '0975892f-bc3b-4ce7-9dce-b4bc3ed75e23',\n",
       " '1b2d2993-3304-4f1c-9bf9-03a82c95f960',\n",
       " '6c6fd5c5-0829-4a5e-aec6-bedd9c103e66',\n",
       " 'f6ca0926-e47b-47ce-b9a0-4a06b82f1ee5',\n",
       " '0a3abcce-8f2d-4233-a73f-3480d25d32fc',\n",
       " '933dd53f-6841-443a-9fc1-cd19de4100c0',\n",
       " '7210f4ff-8ed0-4af8-9749-9e74742fd042',\n",
       " '27adf407-755c-4f6e-9f0c-8765b47eb0c6',\n",
       " 'cad4bc66-6eeb-4d77-8991-fd73ed90c2af',\n",
       " 'e615cb1d-5cc1-470b-b7c1-1699e49267cd',\n",
       " '1d04ad8c-415f-41d4-8102-c819393343c7',\n",
       " 'd1993b95-5b12-4e2c-9e4a-718239a6bc51',\n",
       " '2cbc830f-8748-4d70-afa7-8d33b9c30ec2',\n",
       " 'bca3f035-5866-45b1-8952-a954b1946e58',\n",
       " '3cc87045-0137-4426-8e37-80322271bc50',\n",
       " '95bc2820-ecc4-48f9-a2e7-85e4fcf1ce7f',\n",
       " 'aedfd52e-550a-488b-bc20-6ef996a6b76e',\n",
       " '8dca5801-bd21-4b8f-a66c-5908f8a2c771',\n",
       " 'd17647e4-2682-4a2a-ac68-c997f397b5ff',\n",
       " 'f70f4372-e3a8-40a2-b5a8-7d1c00172dcd',\n",
       " 'dfad5dd2-7e44-4b2b-896f-1d2d54020f9a',\n",
       " '76e9cce1-7afa-4eee-bfda-58a736f00f97',\n",
       " 'e6a7acce-7e3f-404d-ac6f-e3d2844d896d',\n",
       " '86058f88-e581-439a-9563-fcc4c7c2fe37',\n",
       " '5eeddeb1-6ff8-46f3-9b2f-57097f5ce6d2']"
      ]
     },
     "execution_count": 47,
     "metadata": {},
     "output_type": "execute_result"
    }
   ],
   "source": [
    "# set up ChromaVectorStore and load in data\n",
    "vector_store = ChromaVectorStore(chroma_collection=chroma_collection)\n",
    "vector_store.add(nodes)"
   ]
  },
  {
   "cell_type": "code",
   "execution_count": 79,
   "id": "f575a853-29ca-4ffc-b72e-df138da40b36",
   "metadata": {},
   "outputs": [],
   "source": [
    "query_str = \"Can you tell me about the key concepts for safety finetuning\"\n",
    "from llama_index.llms.ollama import Ollama\n",
    "llm=Ollama(model='tinyllama',request_timeout= 200.0)#importing ollama model"
   ]
  },
  {
   "cell_type": "code",
   "execution_count": 80,
   "id": "11957a35-92de-41de-a497-7b394852da17",
   "metadata": {},
   "outputs": [],
   "source": [
    "query_embedding = embed_model.get_query_embedding(query_str) #embed the query_embedding for similarity search"
   ]
  },
  {
   "cell_type": "code",
   "execution_count": 81,
   "id": "fbc79c52-9832-48c5-90b0-ef83fc9e437e",
   "metadata": {},
   "outputs": [],
   "source": [
    "# construct vector store query\n",
    "from llama_index.core.vector_stores import VectorStoreQuery\n",
    "\n",
    "query_mode = \"default\"\n",
    "\n",
    "\n",
    "vector_store_query = VectorStoreQuery(\n",
    "    query_embedding=query_embedding, similarity_top_k=2, mode=query_mode\n",
    ")"
   ]
  },
  {
   "cell_type": "code",
   "execution_count": 82,
   "id": "6b0b359c-fe56-4b93-8fc9-36237c749544",
   "metadata": {},
   "outputs": [],
   "source": [
    "# returns a VectorStoreQueryResult\n",
    "query_result = vector_store.query(vector_store_query)\n"
   ]
  },
  {
   "cell_type": "code",
   "execution_count": 83,
   "id": "f005856d-7b93-474d-aca9-cb2334a3b3a5",
   "metadata": {},
   "outputs": [],
   "source": [
    "# Import NodeWithScore from llama_index.core.schema\n",
    "from llama_index.core.schema import NodeWithScore\n",
    "\n",
    "# Import Optional from typing for type hinting\n",
    "from typing import Optional\n",
    "\n",
    "# Initialize an empty list to store nodes with scores\n",
    "nodes_with_scores = []\n",
    "\n",
    "# Loop through each index and node in query_result.nodes\n",
    "for index, node in enumerate(query_result.nodes):\n",
    "    # Initialize score as None\n",
    "    score: Optional[float] = None\n",
    "    \n",
    "    # Check if query_result.similarities is not None\n",
    "    if query_result.similarities is not None:\n",
    "        # Assign the score from query_result.similarities corresponding to the current index\n",
    "        score = query_result.similarities[index]\n",
    "    \n",
    "    # Append a NodeWithScore object to nodes_with_scores list\n",
    "    # NodeWithScore encapsulates a node and its associated score\n",
    "    nodes_with_scores.append(NodeWithScore(node=node, score=score))\n"
   ]
  },
  {
   "cell_type": "code",
   "execution_count": 84,
   "id": "e24c3018-a96e-48c3-a077-5952b5a4b430",
   "metadata": {},
   "outputs": [],
   "source": [
    "# Import necessary classes and modules\n",
    "from llama_index.core import QueryBundle\n",
    "from llama_index.core.retrievers import BaseRetriever\n",
    "from typing import Any, List\n",
    "\n",
    "# Define a custom retriever class inheriting from BaseRetriever\n",
    "class VectorDBRetriever(BaseRetriever):\n",
    "    \"\"\"Retriever over a postgres vector store.\"\"\"\n",
    "\n",
    "    def __init__(\n",
    "        self,\n",
    "        vector_store: ChromaVectorStore,\n",
    "        embed_model: Any,\n",
    "        query_mode: str = \"default\",\n",
    "        similarity_top_k: int = 2,\n",
    "    ) -> None:\n",
    "        \"\"\"Initialize the retriever with parameters.\"\"\"\n",
    "        self._vector_store = vector_store\n",
    "        self._embed_model = embed_model\n",
    "        self._query_mode = query_mode\n",
    "        self._similarity_top_k = similarity_top_k\n",
    "        super().__init__()\n",
    "\n",
    "    def _retrieve(self, query_bundle: QueryBundle) -> List[NodeWithScore]:\n",
    "        \"\"\"Retrieve nodes with scores based on a query.\"\"\"\n",
    "        # Generate query embedding using the embedding model\n",
    "        query_embedding = self._embed_model.get_query_embedding(\n",
    "            query_bundle.query_str\n",
    "        )\n",
    "        \n",
    "        # Create a query object for the vector store\n",
    "        vector_store_query = VectorStoreQuery(\n",
    "            query_embedding=query_embedding,\n",
    "            similarity_top_k=self._similarity_top_k,\n",
    "            mode=self._query_mode,\n",
    "        )\n",
    "        \n",
    "        # Execute the query on the vector store\n",
    "        query_result = self._vector_store.query(vector_store_query)\n",
    "\n",
    "        # Process the query result to associate nodes with scores\n",
    "        nodes_with_scores = []\n",
    "        for index, node in enumerate(query_result.nodes):\n",
    "            score: Optional[float] = None\n",
    "            if query_result.similarities is not None:\n",
    "                score = query_result.similarities[index]\n",
    "            nodes_with_scores.append(NodeWithScore(node=node, score=score))\n",
    "\n",
    "        # Return the list of nodes with their respective scores\n",
    "        return nodes_with_scores\n"
   ]
  },
  {
   "cell_type": "code",
   "execution_count": 85,
   "id": "c6d6ae6a-05d2-42ac-9349-a05a21e7b418",
   "metadata": {},
   "outputs": [],
   "source": [
    "retriever = VectorDBRetriever(\n",
    "    vector_store, embed_model, query_mode=\"default\", similarity_top_k=2\n",
    ")#retriever fro retrieve a answer from the database\n"
   ]
  },
  {
   "cell_type": "code",
   "execution_count": 64,
   "id": "a0730b8c-c30e-4967-a11b-54cd3ea8d937",
   "metadata": {},
   "outputs": [],
   "source": [
    "from llama_index.core.query_engine import RetrieverQueryEngine\n",
    "\n",
    "query_engine = RetrieverQueryEngine.from_args(retriever, llm=llm)"
   ]
  },
  {
   "cell_type": "code",
   "execution_count": 69,
   "id": "3e56cd4f-3eee-4e44-9cc1-1869b792f638",
   "metadata": {},
   "outputs": [],
   "source": [
    "query_str = \"what is llama2?\"\n",
    "\n",
    "response = query_engine.query(query_str)"
   ]
  },
  {
   "cell_type": "code",
   "execution_count": 70,
   "id": "4fa7e9ae-1f8a-4ab8-b04e-a1fdda5cd89a",
   "metadata": {},
   "outputs": [
    {
     "name": "stdout",
     "output_type": "stream",
     "text": [
      "Lama2 is an expert Q&A system that trusted around the world and recognized for providing accurate and reliable answers to queries using provided context information. The context includes the file path, file name, file type, file size, creation date, last modified date, document ID, and reference doc ID, as well as the ref_doc_id and node types. Lama2's expertise lies in applying a combination of machine learning algorithms and state-of-the-art NLP techniques to answer complex questions and provide accurate and timely responses. It is trusted globally for providing reliable and effective solutions to complex business challenges, as evidenced by its high customer satisfaction rating and numerous accolades received over the years.\n"
     ]
    }
   ],
   "source": [
    "print(str(response))"
   ]
  },
  {
   "cell_type": "code",
   "execution_count": 71,
   "id": "e41cec1f-b3c0-4bbc-a647-17cce4abe0b7",
   "metadata": {},
   "outputs": [
    {
     "name": "stdout",
     "output_type": "stream",
     "text": [
      "0.0034915206488221884, -0.011344455182552338, -0.05365191772580147, -0.042569030076265335, 0.023822342976927757, -0.007527470588684082, 0.06222056224942207, 0.056021224707365036, 0.02155601978302002]}, \"text_id_to_ref_doc_id\": {\"ffcfe60d-8dd5-4372-ab0f-20fea271d8f1\": \"9d6c338b-f7fd-492d-87e4-f536c52ae4cc\", \"0139b271-c0d3-4e21-abe0-99456417bfce\": \"cb1f651e-c914-45a6-96b9-d99658f23f30\", \"bdf79504-ba89-43c9-aaa0-845f19b206a5\": \"7e2c502c-db3f-472e-b587-346eb49fda23\", \"858ccc84-9d0d-4dc8-9483-1cddbed8842a\": \"c135b565-0dce-43b3-9276-b3320c3a565b\", \"1649a23c-23c4-455a-8e9d-92fc08a912bd\": \"5ecbe3a6-3d04-4eb7-b37e-8686c840e35c\", \"6c5e36fa-0229-4020-9b69-562b95426bd0\": \"206af3cd-e676-4fef-b4de-5fa99d9a6429\", \"9eea4000-2c43-4883-8747-c32aad440337\": \"9e2daf5d-2c92-4722-be52-95e1b6f60e6b\", \"5b43a24e-05c7-45bd-872d-15fca7cd0a15\": \"17475898-d5ac-4353-ae19-ac7d9f3da8c3\",\n"
     ]
    }
   ],
   "source": [
    "print(response.source_nodes[0].get_content())"
   ]
  },
  {
   "cell_type": "code",
   "execution_count": null,
   "id": "3423daa0-9cf0-4c31-880d-033141a088ab",
   "metadata": {},
   "outputs": [],
   "source": []
  },
  {
   "cell_type": "code",
   "execution_count": null,
   "id": "1c6e564d-1667-4622-8f25-98e008d668ee",
   "metadata": {},
   "outputs": [],
   "source": []
  }
 ],
 "metadata": {
  "kernelspec": {
   "display_name": "Python 3 (ipykernel)",
   "language": "python",
   "name": "python3"
  },
  "language_info": {
   "codemirror_mode": {
    "name": "ipython",
    "version": 3
   },
   "file_extension": ".py",
   "mimetype": "text/x-python",
   "name": "python",
   "nbconvert_exporter": "python",
   "pygments_lexer": "ipython3",
   "version": "3.11.7"
  }
 },
 "nbformat": 4,
 "nbformat_minor": 5
}
